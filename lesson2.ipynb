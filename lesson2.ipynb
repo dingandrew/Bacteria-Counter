{
  "nbformat": 4,
  "nbformat_minor": 0,
  "metadata": {
    "colab": {
      "name": "lesson2.ipynb",
      "provenance": []
    },
    "kernelspec": {
      "name": "python3",
      "display_name": "Python 3"
    }
  },
  "cells": [
    {
      "cell_type": "markdown",
      "metadata": {
        "id": "cJ9metjgWbAd",
        "colab_type": "text"
      },
      "source": [
        "#Python Operations: + - = * / % \n",
        "\n",
        "Python has many operations that can be performed on variables or literals.\n",
        "\n"
      ]
    },
    {
      "cell_type": "code",
      "metadata": {
        "id": "bFkOtloiWY_q",
        "colab_type": "code",
        "colab": {
          "base_uri": "https://localhost:8080/",
          "height": 140
        },
        "outputId": "2af30032-bfe4-48ff-8bff-7e2bde1f4e22"
      },
      "source": [
        "#addition\n",
        "a = 2 \n",
        "b = 5\n",
        "\n",
        "c = a + b \n",
        "print(c)\n",
        "\n",
        "#division \n",
        "a = 2 \n",
        "b = 5\n",
        "\n",
        "c = a / b \n",
        "print(c)\n",
        "\n",
        "#multiplication \n",
        "a = 2 \n",
        "b = 5\n",
        "\n",
        "c = a * b \n",
        "print(c)\n",
        "\n",
        "#modulous\n",
        "a = 2 \n",
        "b = 5\n",
        "\n",
        "c = a % b \n",
        "print(c)\n",
        "\n",
        "\n",
        "#string concatenation\n",
        "word1 = \"hi \"\n",
        "word2 = \"person!\"\n",
        "print(word1 + word2)\n",
        "\n",
        "#difference between assignment and comparison\n",
        "assign  = 5\n",
        "print(assign)\n",
        "\n",
        "print(1 == 3)\n",
        "\n"
      ],
      "execution_count": 2,
      "outputs": [
        {
          "output_type": "stream",
          "text": [
            "7\n",
            "0.4\n",
            "10\n",
            "2\n",
            "hi person!\n",
            "5\n",
            "False\n"
          ],
          "name": "stdout"
        }
      ]
    }
  ]
}